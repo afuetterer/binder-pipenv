{
 "cells": [
  {
   "cell_type": "markdown",
   "id": "10b8bcc4-8538-420f-a772-3128713fb64b",
   "metadata": {},
   "source": [
    "# Tasks\n",
    "\n",
    "- https://www.laudatio-repository.org\n",
    "- https://www.laudatio-repository.org/browse/corpus/UyRUCnMB7CArCQ9C63ji/corpora\n",
    "- txt: https://www.laudatio-repository.org/download/format/15/31/1.0\n",
    "\n",
    "\n",
    "Walter, M. (2013). ´Märchenkorpus Version 1.0 (1.0)´ Humboldt-Universität zu Berlin Homepage: http://www.textbewegung.de/. DOI: https://doi.org/10.34644/laudatio-dev-UyRUCnMB7CArCQ9C63ji."
   ]
  },
  {
   "cell_type": "code",
   "execution_count": 1,
   "id": "13081494-4925-4f94-a5aa-7bf542a4540c",
   "metadata": {
    "execution": {
     "iopub.execute_input": "2022-01-19T12:06:07.666346Z",
     "iopub.status.busy": "2022-01-19T12:06:07.665779Z",
     "iopub.status.idle": "2022-01-19T12:06:07.702374Z",
     "shell.execute_reply": "2022-01-19T12:06:07.702657Z"
    }
   },
   "outputs": [],
   "source": [
    "import pathlib\n",
    "import requests\n",
    "import zipfile\n",
    "import shutil"
   ]
  },
  {
   "cell_type": "code",
   "execution_count": 2,
   "id": "e6200d77-41a3-44ff-8e7d-feb53c878e8d",
   "metadata": {
    "execution": {
     "iopub.execute_input": "2022-01-19T12:06:07.705909Z",
     "iopub.status.busy": "2022-01-19T12:06:07.705373Z",
     "iopub.status.idle": "2022-01-19T12:06:07.706787Z",
     "shell.execute_reply": "2022-01-19T12:06:07.707224Z"
    }
   },
   "outputs": [],
   "source": [
    "DATA_DIR = pathlib.Path().cwd().parent.joinpath(\"data\")\n",
    "RAW_DATA_DIR = DATA_DIR.joinpath(\"raw\")\n",
    "TXT_DATA_DIR = RAW_DATA_DIR.joinpath(\"txt\")\n",
    "CORPUS_BASE_DIR = DATA_DIR.joinpath(\"corpus\")"
   ]
  },
  {
   "cell_type": "code",
   "execution_count": 3,
   "id": "332d4c55-164f-48c6-857a-587d51bca9d6",
   "metadata": {
    "execution": {
     "iopub.execute_input": "2022-01-19T12:06:07.709489Z",
     "iopub.status.busy": "2022-01-19T12:06:07.709236Z",
     "iopub.status.idle": "2022-01-19T12:06:07.710647Z",
     "shell.execute_reply": "2022-01-19T12:06:07.710871Z"
    }
   },
   "outputs": [],
   "source": [
    "TXT_URL = \"https://www.laudatio-repository.org/download/format/15/31/1.0\""
   ]
  },
  {
   "cell_type": "code",
   "execution_count": 4,
   "id": "7abcb43a-42c4-475d-bf39-1eaebceaa084",
   "metadata": {
    "execution": {
     "iopub.execute_input": "2022-01-19T12:06:07.713487Z",
     "iopub.status.busy": "2022-01-19T12:06:07.712989Z",
     "iopub.status.idle": "2022-01-19T12:06:08.390866Z",
     "shell.execute_reply": "2022-01-19T12:06:08.391350Z"
    }
   },
   "outputs": [
    {
     "data": {
      "text/plain": [
       "<Response [200]>"
      ]
     },
     "execution_count": 4,
     "metadata": {},
     "output_type": "execute_result"
    }
   ],
   "source": [
    "# download zip file\n",
    "response = requests.get(TXT_URL)\n",
    "response"
   ]
  },
  {
   "cell_type": "code",
   "execution_count": 5,
   "id": "6df85086-0677-4775-becc-667609f3e314",
   "metadata": {
    "execution": {
     "iopub.execute_input": "2022-01-19T12:06:08.395785Z",
     "iopub.status.busy": "2022-01-19T12:06:08.395402Z",
     "iopub.status.idle": "2022-01-19T12:06:08.455051Z",
     "shell.execute_reply": "2022-01-19T12:06:08.454766Z"
    }
   },
   "outputs": [],
   "source": [
    "filename = RAW_DATA_DIR.joinpath(\"txt.zip\")\n",
    "# write zip file to disk\n",
    "with open(filename, \"wb\") as f:\n",
    "    f.write(response.content)\n",
    "    \n",
    "# unpack first layer\n",
    "with zipfile.ZipFile(filename,\"r\") as zip_ref:\n",
    "    zip_ref.extractall(RAW_DATA_DIR)\n",
    "    \n",
    "# unpack second layer\n",
    "filename = RAW_DATA_DIR.joinpath(\"txt/txt_1-0.zip\")\n",
    "with zipfile.ZipFile(filename,\"r\") as zip_ref:\n",
    "    zip_ref.extractall(RAW_DATA_DIR)\n",
    "    \n",
    "# delete second layer zipfile\n",
    "filename.unlink()"
   ]
  },
  {
   "cell_type": "code",
   "execution_count": 6,
   "id": "6f5c78c3-5e1c-423e-8c73-b64f1e9e2ba8",
   "metadata": {
    "execution": {
     "iopub.execute_input": "2022-01-19T12:06:08.457347Z",
     "iopub.status.busy": "2022-01-19T12:06:08.456934Z",
     "iopub.status.idle": "2022-01-19T12:06:08.462267Z",
     "shell.execute_reply": "2022-01-19T12:06:08.461987Z"
    }
   },
   "outputs": [],
   "source": [
    "CORPUS_DIR = CORPUS_BASE_DIR.joinpath(\"grimm\")\n",
    "shutil.rmtree(CORPUS_DIR, ignore_errors=True)"
   ]
  },
  {
   "cell_type": "code",
   "execution_count": 7,
   "id": "9ff7cb31-86ef-484d-88bb-80d7d06bbf7e",
   "metadata": {
    "execution": {
     "iopub.execute_input": "2022-01-19T12:06:08.464479Z",
     "iopub.status.busy": "2022-01-19T12:06:08.464142Z",
     "iopub.status.idle": "2022-01-19T12:06:08.466129Z",
     "shell.execute_reply": "2022-01-19T12:06:08.465858Z"
    }
   },
   "outputs": [
    {
     "data": {
      "text/plain": [
       "PosixPath('/home/afuetterer/workspace/binder-test/data/corpus/grimm')"
      ]
     },
     "execution_count": 7,
     "metadata": {},
     "output_type": "execute_result"
    }
   ],
   "source": [
    "# move directory\n",
    "TXT_DATA_DIR.rename(CORPUS_DIR)"
   ]
  },
  {
   "cell_type": "code",
   "execution_count": 8,
   "id": "cbdb2a06-0907-45ef-b4e8-496d1950370c",
   "metadata": {
    "execution": {
     "iopub.execute_input": "2022-01-19T12:06:08.468210Z",
     "iopub.status.busy": "2022-01-19T12:06:08.467888Z",
     "iopub.status.idle": "2022-01-19T12:06:08.469837Z",
     "shell.execute_reply": "2022-01-19T12:06:08.469568Z"
    }
   },
   "outputs": [
    {
     "data": {
      "text/plain": [
       "PosixPath('/home/afuetterer/workspace/binder-test/data/corpus/grimm')"
      ]
     },
     "execution_count": 8,
     "metadata": {},
     "output_type": "execute_result"
    }
   ],
   "source": [
    "CORPUS_DIR"
   ]
  },
  {
   "cell_type": "code",
   "execution_count": 9,
   "id": "4dc83884-3873-4ddd-b75e-e44af50d1054",
   "metadata": {
    "execution": {
     "iopub.execute_input": "2022-01-19T12:06:08.471645Z",
     "iopub.status.busy": "2022-01-19T12:06:08.471245Z",
     "iopub.status.idle": "2022-01-19T12:06:08.622020Z",
     "shell.execute_reply": "2022-01-19T12:06:08.621743Z"
    }
   },
   "outputs": [],
   "source": [
    "from nltk.corpus import PlaintextCorpusReader"
   ]
  },
  {
   "cell_type": "code",
   "execution_count": 10,
   "id": "5d0de690-0e96-4fb5-af9c-dc4cf1a17cc5",
   "metadata": {
    "execution": {
     "iopub.execute_input": "2022-01-19T12:06:08.624401Z",
     "iopub.status.busy": "2022-01-19T12:06:08.623994Z",
     "iopub.status.idle": "2022-01-19T12:06:08.627094Z",
     "shell.execute_reply": "2022-01-19T12:06:08.626816Z"
    }
   },
   "outputs": [
    {
     "data": {
      "text/plain": [
       "['grimm_Das_kluge_Grethel_395-397.txt',\n",
       " 'grimm_allerleirauh_353-359.txt',\n",
       " 'grimm_aschenputtel_119-126.txt',\n",
       " 'grimm_bruder_lustig_402-413.txt',\n",
       " 'grimm_bruederchen_und_schwesterchen__057-064.txt',\n",
       " 'grimm_das_blaue_licht_150-154.txt',\n",
       " 'grimm_das_buerle_335-340.txt',\n",
       " 'grimm_das_buerle_im_himmel_331-331.txt',\n",
       " 'grimm_das_dietmarsische_luegenmaerchen_294-294.txt',\n",
       " 'grimm_das_eigensinnige_kind_155-155.txt']"
      ]
     },
     "execution_count": 10,
     "metadata": {},
     "output_type": "execute_result"
    }
   ],
   "source": [
    "reader = PlaintextCorpusReader(str(CORPUS_DIR), \"[\\w+-]*\\.txt\")\n",
    "reader.fileids()[:10]"
   ]
  },
  {
   "cell_type": "code",
   "execution_count": null,
   "id": "06d35220-ac9d-4ad0-8749-4273494b1c9b",
   "metadata": {},
   "outputs": [],
   "source": []
  }
 ],
 "metadata": {
  "kernelspec": {
   "display_name": "Python 3 (ipykernel)",
   "language": "python",
   "name": "python3"
  },
  "language_info": {
   "codemirror_mode": {
    "name": "ipython",
    "version": 3
   },
   "file_extension": ".py",
   "mimetype": "text/x-python",
   "name": "python",
   "nbconvert_exporter": "python",
   "pygments_lexer": "ipython3",
   "version": "3.10.1"
  }
 },
 "nbformat": 4,
 "nbformat_minor": 5
}
